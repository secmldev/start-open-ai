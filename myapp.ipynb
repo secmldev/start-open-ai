{
 "cells": [
  {
   "cell_type": "code",
   "execution_count": null,
   "id": "02fbba2f-3ede-4a57-8d8e-c81c8517d7a8",
   "metadata": {},
   "outputs": [],
   "source": [
    "# pip install flask"
   ]
  },
  {
   "cell_type": "code",
   "execution_count": 1,
   "id": "69a73aa8-7e31-4912-9939-8f1630e8ec17",
   "metadata": {},
   "outputs": [],
   "source": [
    "# import flask\n",
    "\n",
    "from flask import Flask\n",
    "import os\n",
    "import openai\n",
    "import tiktoken\n",
    "from dotenv import load_dotenv, find_dotenv\n"
   ]
  },
  {
   "cell_type": "code",
   "execution_count": 2,
   "id": "c0f84748-ec27-4392-82f5-0497ad7dfb84",
   "metadata": {},
   "outputs": [],
   "source": [
    "# Create app, that hosts the application\n",
    "\n",
    "app = Flask(__name__)\n",
    "\n",
    "\n",
    "openai.api_key = "
   ]
  },
  {
   "cell_type": "code",
   "execution_count": 3,
   "id": "0169af08-485d-468b-bf03-9de53402892c",
   "metadata": {},
   "outputs": [],
   "source": [
    "# route that calls a Python function. \n",
    "# A route maps what you type in the browser (the url) to a Python function.\n",
    "@app.route('/')\n",
    "def index():\n",
    "    return 'Web App with Python Flask!'\n",
    "\n",
    "@app.route('/actor')\n",
    "def indexif():\n",
    "    name = 'Amitabh bachhan'\n",
    "    return \"Welcome mr \" + name + \" you are good actor\""
   ]
  },
  {
   "cell_type": "code",
   "execution_count": null,
   "id": "762f1063-4eaa-48e7-b9ac-4f25f7444d9b",
   "metadata": {},
   "outputs": [],
   "source": []
  },
  {
   "cell_type": "code",
   "execution_count": 4,
   "id": "51a3aa52-0147-4dee-bd28-9a9a2601ad13",
   "metadata": {},
   "outputs": [],
   "source": [
    "@app.route('/<prompt>')\n",
    "def get_completion(prompt, model=\"gpt-3.5-turbo\"):\n",
    "    messages = [{\"role\": \"user\", \"content\": prompt}]\n",
    "    response = openai.ChatCompletion.create(\n",
    "        model=model,\n",
    "        messages=messages,\n",
    "        temperature=1,\n",
    "    )\n",
    "    return response.choices[0].message[\"content\"]"
   ]
  },
  {
   "cell_type": "code",
   "execution_count": null,
   "id": "75801ad2-c87d-4f0e-805a-6b4acf1e215b",
   "metadata": {},
   "outputs": [],
   "source": []
  },
  {
   "cell_type": "code",
   "execution_count": null,
   "id": "86b2164f-2ab6-4111-8c45-c8c531a1152a",
   "metadata": {},
   "outputs": [],
   "source": []
  },
  {
   "cell_type": "code",
   "execution_count": null,
   "id": "c9095d39-db50-49e9-ad27-12722c7dc159",
   "metadata": {},
   "outputs": [],
   "source": []
  },
  {
   "cell_type": "code",
   "execution_count": null,
   "id": "4a85ca98-3976-42b3-8c5b-99936f1e36f2",
   "metadata": {},
   "outputs": [
    {
     "name": "stdout",
     "output_type": "stream",
     "text": [
      " * Serving Flask app '__main__'\n",
      " * Debug mode: off\n"
     ]
    },
    {
     "name": "stderr",
     "output_type": "stream",
     "text": [
      "\u001b[31m\u001b[1mWARNING: This is a development server. Do not use it in a production deployment. Use a production WSGI server instead.\u001b[0m\n",
      " * Running on all addresses (0.0.0.0)\n",
      " * Running on http://127.0.0.1:81\n",
      " * Running on http://10.52.114.37:81\n",
      "\u001b[33mPress CTRL+C to quit\u001b[0m\n",
      "127.0.0.1 - - [22/Sep/2023 20:42:07] \"GET / HTTP/1.1\" 200 -\n",
      "127.0.0.1 - - [22/Sep/2023 20:42:12] \"GET /favicon.ico HTTP/1.1\" 200 -\n",
      "127.0.0.1 - - [22/Sep/2023 20:42:30] \"GET /actor HTTP/1.1\" 200 -\n",
      "127.0.0.1 - - [22/Sep/2023 20:42:38] \"GET /favicon.ico HTTP/1.1\" 200 -\n",
      "127.0.0.1 - - [22/Sep/2023 20:42:56] \"GET /\"give%20me%20good%20school%20name%20in%20bharat\" HTTP/1.1\" 200 -\n",
      "127.0.0.1 - - [22/Sep/2023 20:43:02] \"GET /favicon.ico HTTP/1.1\" 200 -\n"
     ]
    }
   ],
   "source": [
    "app.run(host='0.0.0.0', port=81)"
   ]
  },
  {
   "cell_type": "code",
   "execution_count": null,
   "id": "1757b42e-4699-486d-a33b-b26ab0b1cc20",
   "metadata": {},
   "outputs": [],
   "source": []
  }
 ],
 "metadata": {
  "kernelspec": {
   "display_name": "Python 3 (ipykernel)",
   "language": "python",
   "name": "python3"
  },
  "language_info": {
   "codemirror_mode": {
    "name": "ipython",
    "version": 3
   },
   "file_extension": ".py",
   "mimetype": "text/x-python",
   "name": "python",
   "nbconvert_exporter": "python",
   "pygments_lexer": "ipython3",
   "version": "3.10.12"
  }
 },
 "nbformat": 4,
 "nbformat_minor": 5
}
